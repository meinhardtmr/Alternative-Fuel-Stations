{
 "cells": [
  {
   "cell_type": "code",
   "execution_count": 1,
   "metadata": {},
   "outputs": [],
   "source": [
    "# Dependencies\n",
    "import requests, json, os\n",
    "from pprint import pprint\n",
    "import pandas as pd"
   ]
  },
  {
   "cell_type": "code",
   "execution_count": 2,
   "metadata": {},
   "outputs": [],
   "source": [
    "# URL \n",
    "url = \"https://developer.nrel.gov/api/alt-fuel-stations/v1.geojson?api_key=DEMO_KEY&&state=FL&&access=public\""
   ]
  },
  {
   "cell_type": "code",
   "execution_count": 3,
   "metadata": {},
   "outputs": [],
   "source": [
    "# Perform a get request for this URL\n",
    "data = requests.get(url).json()"
   ]
  },
  {
   "cell_type": "code",
   "execution_count": 4,
   "metadata": {},
   "outputs": [
    {
     "name": "stdout",
     "output_type": "stream",
     "text": [
      "['access_code',\n",
      " 'access_days_time',\n",
      " 'access_days_time_fr',\n",
      " 'access_detail_code',\n",
      " 'bd_blends',\n",
      " 'bd_blends_fr',\n",
      " 'cards_accepted',\n",
      " 'city',\n",
      " 'cng_dispenser_num',\n",
      " 'cng_fill_type_code',\n",
      " 'cng_has_rng',\n",
      " 'cng_psi',\n",
      " 'cng_renewable_source',\n",
      " 'cng_total_compression',\n",
      " 'cng_total_storage',\n",
      " 'cng_vehicle_class',\n",
      " 'country',\n",
      " 'date_last_confirmed',\n",
      " 'e85_blender_pump',\n",
      " 'e85_other_ethanol_blends',\n",
      " 'ev_connector_types',\n",
      " 'ev_dc_fast_num',\n",
      " 'ev_level1_evse_num',\n",
      " 'ev_level2_evse_num',\n",
      " 'ev_network',\n",
      " 'ev_network_web',\n",
      " 'ev_other_evse',\n",
      " 'ev_pricing',\n",
      " 'ev_pricing_fr',\n",
      " 'ev_renewable_source',\n",
      " 'expected_date',\n",
      " 'facility_type',\n",
      " 'fuel_type_code',\n",
      " 'geocode_status',\n",
      " 'groups_with_access_code',\n",
      " 'groups_with_access_code_fr',\n",
      " 'hy_is_retail',\n",
      " 'hy_pressures',\n",
      " 'hy_standards',\n",
      " 'hy_status_link',\n",
      " 'id',\n",
      " 'intersection_directions',\n",
      " 'intersection_directions_fr',\n",
      " 'lng_has_rng',\n",
      " 'lng_renewable_source',\n",
      " 'lng_vehicle_class',\n",
      " 'lpg_nozzle_types',\n",
      " 'lpg_primary',\n",
      " 'maximum_vehicle_class',\n",
      " 'ng_fill_type_code',\n",
      " 'ng_psi',\n",
      " 'ng_vehicle_class',\n",
      " 'nps_unit_name',\n",
      " 'open_date',\n",
      " 'owner_type_code',\n",
      " 'plus4',\n",
      " 'rd_blended_with_biodiesel',\n",
      " 'rd_blends',\n",
      " 'rd_blends_fr',\n",
      " 'rd_max_biodiesel_level',\n",
      " 'restricted_access',\n",
      " 'state',\n",
      " 'station_name',\n",
      " 'station_phone',\n",
      " 'status_code',\n",
      " 'street_address',\n",
      " 'updated_at',\n",
      " 'zip']\n"
     ]
    }
   ],
   "source": [
    "# List fields\n",
    "df = pd.DataFrame(data['features'])\n",
    "\n",
    "prop = list(df['properties'][0])\n",
    "prop.sort()\n",
    "pprint(prop)"
   ]
  },
  {
   "cell_type": "code",
   "execution_count": 5,
   "metadata": {},
   "outputs": [],
   "source": [
    "# Remove unneeded elements from properties\n",
    "for i in df.index:\n",
    "    df.loc[:,'properties'][i].pop('access_days_time_fr')\n",
    "    df.loc[:,'properties'][i].pop('bd_blends')\n",
    "    df.loc[:,'properties'][i].pop('bd_blends_fr')\n",
    "    df.loc[:,'properties'][i].pop('cng_psi')\n",
    "    df.loc[:,'properties'][i].pop('cng_renewable_source')\n",
    "    df.loc[:,'properties'][i].pop('cng_total_compression')\n",
    "    df.loc[:,'properties'][i].pop('cng_total_storage')\n",
    "    df.loc[:,'properties'][i].pop('cng_vehicle_class')\n",
    "    df.loc[:,'properties'][i].pop('e85_blender_pump')\n",
    "    df.loc[:,'properties'][i].pop('e85_other_ethanol_blends')\n",
    "    df.loc[:,'properties'][i].pop('ev_renewable_source')\n",
    "    df.loc[:,'properties'][i].pop('geocode_status')\n",
    "    df.loc[:,'properties'][i].pop('groups_with_access_code')\n",
    "    df.loc[:,'properties'][i].pop('groups_with_access_code_fr')\n",
    "    df.loc[:,'properties'][i].pop('hy_is_retail')\n",
    "    df.loc[:,'properties'][i].pop('hy_pressures')\n",
    "    df.loc[:,'properties'][i].pop('hy_standards')\n",
    "    df.loc[:,'properties'][i].pop('hy_status_link')\n",
    "    df.loc[:,'properties'][i].pop('intersection_directions_fr')\n",
    "    df.loc[:,'properties'][i].pop('lng_has_rng')\n",
    "    df.loc[:,'properties'][i].pop('lng_renewable_source')\n",
    "    df.loc[:,'properties'][i].pop('lng_vehicle_class')\n",
    "    df.loc[:,'properties'][i].pop('lpg_primary')\n",
    "    df.loc[:,'properties'][i].pop('maximum_vehicle_class')\n",
    "    df.loc[:,'properties'][i].pop('ng_psi')\n",
    "    df.loc[:,'properties'][i].pop('ng_vehicle_class')\n",
    "    df.loc[:,'properties'][i].pop('nps_unit_name')\n",
    "    df.loc[:,'properties'][i].pop('rd_blended_with_biodiesel')\n",
    "    df.loc[:,'properties'][i].pop('rd_blends')\n",
    "    df.loc[:,'properties'][i].pop('rd_blends_fr')\n",
    "    df.loc[:,'properties'][i].pop('rd_max_biodiesel_level')\n"
   ]
  },
  {
   "cell_type": "code",
   "execution_count": 6,
   "metadata": {},
   "outputs": [
    {
     "data": {
      "text/plain": [
       "{0: {'access_code': 'public',\n",
       "  'access_days_time': '7:30am-4:30pm M-F; call 850-983-5401 to pay with cash or check; to use credit line with City of Milton, must apply within City Hall located next to the station; Also accepts City of Milton credit',\n",
       "  'access_detail_code': 'CREDIT_CARD_AFTER_HOURS',\n",
       "  'cards_accepted': 'A Cash Checks FuelMan M V',\n",
       "  'date_last_confirmed': '2022-10-11',\n",
       "  'expected_date': None,\n",
       "  'fuel_type_code': 'CNG',\n",
       "  'id': 864,\n",
       "  'open_date': '1991-01-15',\n",
       "  'owner_type_code': 'LG',\n",
       "  'status_code': 'E',\n",
       "  'restricted_access': False,\n",
       "  'station_name': 'City of Milton',\n",
       "  'station_phone': '850-983-5401',\n",
       "  'updated_at': '2023-05-30T18:46:28Z',\n",
       "  'facility_type': 'MUNI_GOV',\n",
       "  'city': 'Milton',\n",
       "  'intersection_directions': None,\n",
       "  'plus4': None,\n",
       "  'state': 'FL',\n",
       "  'street_address': '5162 Munson Hwy',\n",
       "  'zip': '32570',\n",
       "  'country': 'US',\n",
       "  'cng_dispenser_num': 2,\n",
       "  'cng_fill_type_code': 'Q',\n",
       "  'cng_has_rng': False,\n",
       "  'ev_connector_types': None,\n",
       "  'ev_dc_fast_num': None,\n",
       "  'ev_level1_evse_num': None,\n",
       "  'ev_level2_evse_num': None,\n",
       "  'ev_network': None,\n",
       "  'ev_network_web': None,\n",
       "  'ev_other_evse': None,\n",
       "  'ev_pricing': None,\n",
       "  'lpg_nozzle_types': None,\n",
       "  'ng_fill_type_code': 'Q',\n",
       "  'ev_pricing_fr': None}}"
      ]
     },
     "execution_count": 6,
     "metadata": {},
     "output_type": "execute_result"
    }
   ],
   "source": [
    "df.loc[0:0,'properties'].to_dict()"
   ]
  },
  {
   "cell_type": "markdown",
   "metadata": {},
   "source": [
    "### Get Lookups From Website"
   ]
  },
  {
   "cell_type": "code",
   "execution_count": 7,
   "metadata": {},
   "outputs": [],
   "source": [
    "# Import Splinter and BeautifulSoup\n",
    "from splinter import Browser\n",
    "from bs4 import BeautifulSoup"
   ]
  },
  {
   "cell_type": "code",
   "execution_count": 8,
   "metadata": {},
   "outputs": [],
   "source": [
    "browser = Browser('chrome')"
   ]
  },
  {
   "cell_type": "code",
   "execution_count": 9,
   "metadata": {},
   "outputs": [
    {
     "name": "stdout",
     "output_type": "stream",
     "text": [
      "[<tr>\n",
      "<th scope=\"row\">all</th>\n",
      "<td>All Fuels</td>\n",
      "</tr>, <tr>\n",
      "<th scope=\"row\">BD</th>\n",
      "<td>Biodiesel (B20 and above)</td>\n",
      "</tr>, <tr>\n",
      "<th scope=\"row\">CNG</th>\n",
      "<td>Compressed Natural Gas (CNG)</td>\n",
      "</tr>, <tr>\n",
      "<th scope=\"row\">ELEC</th>\n",
      "<td>Electric</td>\n",
      "</tr>, <tr>\n",
      "<th scope=\"row\">E85</th>\n",
      "<td>Ethanol (E85)</td>\n",
      "</tr>, <tr>\n",
      "<th scope=\"row\">HY</th>\n",
      "<td>Hydrogen</td>\n",
      "</tr>, <tr>\n",
      "<th scope=\"row\">LNG</th>\n",
      "<td>Liquefied Natural Gas (LNG)</td>\n",
      "</tr>, <tr>\n",
      "<th scope=\"row\">LPG</th>\n",
      "<td>Propane (LPG)</td>\n",
      "</tr>, <tr>\n",
      "<th scope=\"row\">RD</th>\n",
      "<td>Renewable Diesel (R20 and above)</td>\n",
      "</tr>]\n"
     ]
    }
   ],
   "source": [
    "# Visit the website\n",
    "url = 'https://developer.nrel.gov/docs/transportation/alt-fuel-stations-v1/all/'\n",
    "# Send the browser to the URL\n",
    "browser.visit(url)\n",
    "\n",
    "# Save the HTML from the browser\n",
    "html = browser.html\n",
    "\n",
    "# Create a BeautifulSoup object from the HTML\n",
    "soup = BeautifulSoup(html, 'html.parser')\n",
    "\n",
    "table = soup.find_all('table', class_='table table-bordered' )\n",
    "table = table[2].find('tbody')\n",
    "table = table.find_all('tr')\n",
    "\n",
    "print(table)"
   ]
  },
  {
   "cell_type": "code",
   "execution_count": 10,
   "metadata": {},
   "outputs": [
    {
     "name": "stdout",
     "output_type": "stream",
     "text": [
      "{'BD': 'Biodiesel (B20 and above)',\n",
      " 'CNG': 'Compressed Natural Gas (CNG)',\n",
      " 'E85': 'Ethanol (E85)',\n",
      " 'ELEC': 'Electric',\n",
      " 'HY': 'Hydrogen',\n",
      " 'LNG': 'Liquefied Natural Gas (LNG)',\n",
      " 'LPG': 'Propane (LPG)',\n",
      " 'RD': 'Renewable Diesel (R20 and above)',\n",
      " 'all': 'All Fuels'}\n"
     ]
    }
   ],
   "source": [
    "# Store values in a dictionary\n",
    "fuel_type = dict()\n",
    "\n",
    "for i in table:\n",
    "    fuel_type[i.find('th').text] = i.find('td').text\n",
    "\n",
    "pprint(fuel_type)    "
   ]
  },
  {
   "cell_type": "markdown",
   "metadata": {},
   "source": [
    "### Add fuel_type_decription values\n"
   ]
  },
  {
   "cell_type": "code",
   "execution_count": 11,
   "metadata": {},
   "outputs": [
    {
     "name": "stdout",
     "output_type": "stream",
     "text": [
      "array([{'access_code': 'public', 'access_days_time': '8am-5pm M-F, 8am-12pm Sat; must have state decal', 'access_detail_code': 'CALL', 'cards_accepted': 'Cash Checks', 'date_last_confirmed': '2022-09-14', 'expected_date': None, 'fuel_type_code': 'LPG', 'id': 13655, 'open_date': '1999-07-08', 'owner_type_code': 'P', 'status_code': 'E', 'restricted_access': False, 'station_name': 'Lovelace Gas Service Inc', 'station_phone': '407-277-2966', 'updated_at': '2023-02-14T15:54:11Z', 'facility_type': 'FUEL_RESELLER', 'city': 'Orlando', 'intersection_directions': 'Highway 50, 0.5 mile east of Dean Rd', 'plus4': None, 'state': 'FL', 'street_address': '10606 E Colonial Dr', 'zip': '32817', 'country': 'US', 'cng_dispenser_num': None, 'cng_fill_type_code': None, 'cng_has_rng': None, 'ev_connector_types': None, 'ev_dc_fast_num': None, 'ev_level1_evse_num': None, 'ev_level2_evse_num': None, 'ev_network': None, 'ev_network_web': None, 'ev_other_evse': None, 'ev_pricing': None, 'lpg_nozzle_types': ['ACME'], 'ng_fill_type_code': None, 'ev_pricing_fr': None, 'fuel_type_desc': 'Propane (LPG)'}],\n",
      "      dtype=object)\n"
     ]
    }
   ],
   "source": [
    "# Add description elements\n",
    "for i in df.index:\n",
    "    df.loc[:,'properties'][i]['fuel_type_desc'] = fuel_type[df.loc[:,'properties'][i]['fuel_type_code']]\n",
    "\n",
    "pprint(df.loc[3:3,'properties'].values)"
   ]
  },
  {
   "cell_type": "markdown",
   "metadata": {},
   "source": [
    "### Write dataframe to geoJSON file"
   ]
  },
  {
   "cell_type": "code",
   "execution_count": 12,
   "metadata": {},
   "outputs": [],
   "source": [
    "# Write JSON to the Resources folder\n",
    "FILE_NAME = \"geo_alt_fuel_stations.json\"\n",
    "FOLDER_NAME = \"Resources\"\n",
    "os_file_path = os.path.join(\"..\", FOLDER_NAME, FILE_NAME)\n",
    "\n",
    "df.to_json(os_file_path, orient='records')"
   ]
  },
  {
   "cell_type": "markdown",
   "metadata": {},
   "source": [
    "### Test database after loading geoJSON file"
   ]
  },
  {
   "cell_type": "code",
   "execution_count": 13,
   "metadata": {},
   "outputs": [
    {
     "name": "stdout",
     "output_type": "stream",
     "text": [
      "['geo_stations']\n"
     ]
    }
   ],
   "source": [
    "# Import dependencies\n",
    "from pymongo import MongoClient\n",
    "\n",
    "mongo = MongoClient(port=27017)\n",
    "# confirm that our new database was created\n",
    "\n",
    "# assign the uk_food database to a variable name\n",
    "db = mongo['alt_fuel']\n",
    "# review the collections in our new database\n",
    "pprint(db.list_collection_names())\n"
   ]
  },
  {
   "cell_type": "code",
   "execution_count": 14,
   "metadata": {},
   "outputs": [],
   "source": [
    "# assign the collection to a variable\n",
    "stations = db['geo_stations']"
   ]
  },
  {
   "cell_type": "code",
   "execution_count": 15,
   "metadata": {},
   "outputs": [
    {
     "name": "stdout",
     "output_type": "stream",
     "text": [
      "{'_id': ObjectId('64a7085880b88f8f867da60a'),\n",
      " 'geometry': {'coordinates': [-87.041286, 30.633284], 'type': 'Point'},\n",
      " 'properties': {'access_code': 'public',\n",
      "                'access_days_time': '7:30am-4:30pm M-F; call 850-983-5401 to '\n",
      "                                    'pay with cash or check; to use credit '\n",
      "                                    'line with City of Milton, must apply '\n",
      "                                    'within City Hall located next to the '\n",
      "                                    'station; Also accepts City of Milton '\n",
      "                                    'credit',\n",
      "                'access_detail_code': 'CREDIT_CARD_AFTER_HOURS',\n",
      "                'cards_accepted': 'A Cash Checks FuelMan M V',\n",
      "                'city': 'Milton',\n",
      "                'cng_dispenser_num': 2,\n",
      "                'cng_fill_type_code': 'Q',\n",
      "                'cng_has_rng': False,\n",
      "                'country': 'US',\n",
      "                'date_last_confirmed': '2022-10-11',\n",
      "                'ev_connector_types': None,\n",
      "                'ev_dc_fast_num': None,\n",
      "                'ev_level1_evse_num': None,\n",
      "                'ev_level2_evse_num': None,\n",
      "                'ev_network': None,\n",
      "                'ev_network_web': None,\n",
      "                'ev_other_evse': None,\n",
      "                'ev_pricing': None,\n",
      "                'ev_pricing_fr': None,\n",
      "                'expected_date': None,\n",
      "                'facility_type': 'MUNI_GOV',\n",
      "                'fuel_type_code': 'CNG',\n",
      "                'fuel_type_desc': 'Compressed Natural Gas (CNG)',\n",
      "                'id': 864,\n",
      "                'intersection_directions': None,\n",
      "                'lpg_nozzle_types': None,\n",
      "                'ng_fill_type_code': 'Q',\n",
      "                'open_date': '1991-01-15',\n",
      "                'owner_type_code': 'LG',\n",
      "                'plus4': None,\n",
      "                'restricted_access': False,\n",
      "                'state': 'FL',\n",
      "                'station_name': 'City of Milton',\n",
      "                'station_phone': '850-983-5401',\n",
      "                'status_code': 'E',\n",
      "                'street_address': '5162 Munson Hwy',\n",
      "                'updated_at': '2023-05-30T18:46:28Z',\n",
      "                'zip': '32570'},\n",
      " 'type': 'Feature'}\n"
     ]
    }
   ],
   "source": [
    "# review a document in the establishments collection\n",
    "pprint(stations.find_one())"
   ]
  },
  {
   "cell_type": "code",
   "execution_count": null,
   "metadata": {},
   "outputs": [],
   "source": []
  }
 ],
 "metadata": {
  "kernelspec": {
   "display_name": "dev2",
   "language": "python",
   "name": "dev2"
  },
  "language_info": {
   "codemirror_mode": {
    "name": "ipython",
    "version": 3
   },
   "file_extension": ".py",
   "mimetype": "text/x-python",
   "name": "python",
   "nbconvert_exporter": "python",
   "pygments_lexer": "ipython3",
   "version": "3.10.10"
  },
  "varInspector": {
   "cols": {
    "lenName": 16,
    "lenType": 16,
    "lenVar": 40
   },
   "kernels_config": {
    "python": {
     "delete_cmd_postfix": "",
     "delete_cmd_prefix": "del ",
     "library": "var_list.py",
     "varRefreshCmd": "print(var_dic_list())"
    },
    "r": {
     "delete_cmd_postfix": ") ",
     "delete_cmd_prefix": "rm(",
     "library": "var_list.r",
     "varRefreshCmd": "cat(var_dic_list()) "
    }
   },
   "types_to_exclude": [
    "module",
    "function",
    "builtin_function_or_method",
    "instance",
    "_Feature"
   ],
   "window_display": false
  }
 },
 "nbformat": 4,
 "nbformat_minor": 2
}
